{
 "cells": [
  {
   "cell_type": "markdown",
   "metadata": {},
   "source": [
    "# Utilizar operadores aritméticos"
   ]
  },
  {
   "cell_type": "code",
   "execution_count": 1,
   "metadata": {},
   "outputs": [
    {
     "name": "stdout",
     "output_type": "stream",
     "text": [
      "628949330km\n",
      "390577533.93mi\n"
     ]
    }
   ],
   "source": [
    "#Exploremos cómo podemos crear un programa que pueda calcular la distancia entre dos planetas.\n",
    "\n",
    "#Creación de variables.\n",
    "Tierra = 149597870\n",
    "Jupiter = 778547200\n",
    "\n",
    "#Calcular la distancia entre planetas.\n",
    "distancia = abs(Tierra - Jupiter)\n",
    "distMillas = 0.621 * distancia\n",
    "print (str(distancia) + 'km')\n",
    "print (str(distMillas) + 'mi')"
   ]
  },
  {
   "cell_type": "markdown",
   "metadata": {},
   "source": [
    "# Convierte cadenas en números y usa valores absolutos"
   ]
  },
  {
   "cell_type": "code",
   "execution_count": 2,
   "metadata": {},
   "outputs": [
    {
     "name": "stdout",
     "output_type": "stream",
     "text": [
      "9419754km\n",
      "5849667.234mi\n"
     ]
    }
   ],
   "source": [
    "#Almacenar las entradas dadas por el usuario.\n",
    "distPlanet1 = input (\"¿Cuál es la distancia del sol al primer planeta?\")\n",
    "distPlanet2 = input (\"¿Cuál es la distancia del sol al segundo planeta?\")\n",
    "#Convierte las cadenas de ambos planetas a números enteros.\n",
    "distPlanet1 = int(distPlanet1)\n",
    "distPlanet2 = int(distPlanet2)\n",
    "#Realizar el cálculo y determinar el valor absoluto.\n",
    "dist = abs(distPlanet1 - distPlanet2)\n",
    "#Convertir de KM a Millas.\n",
    "distaMillas = 0.621 * dist\n",
    "\n",
    "print(str(dist) + 'km')\n",
    "print (str(distaMillas) + 'mi')"
   ]
  }
 ],
 "metadata": {
  "interpreter": {
   "hash": "31f2aee4e71d21fbe5cf8b01ff0e069b9275f58929596ceb00d14d90e3e16cd6"
  },
  "kernelspec": {
   "display_name": "Python 3.8.9 64-bit",
   "language": "python",
   "name": "python3"
  },
  "language_info": {
   "codemirror_mode": {
    "name": "ipython",
    "version": 3
   },
   "file_extension": ".py",
   "mimetype": "text/x-python",
   "name": "python",
   "nbconvert_exporter": "python",
   "pygments_lexer": "ipython3",
   "version": "3.8.9"
  },
  "orig_nbformat": 4
 },
 "nbformat": 4,
 "nbformat_minor": 2
}
