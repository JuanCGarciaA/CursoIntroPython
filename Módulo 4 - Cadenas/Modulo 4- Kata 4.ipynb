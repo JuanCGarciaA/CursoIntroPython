{
 "cells": [
  {
   "cell_type": "code",
   "execution_count": 13,
   "metadata": {},
   "outputs": [
    {
     "name": "stdout",
     "output_type": "stream",
     "text": [
      " On average, the Moon moves 4cm away from the Earth every year\n",
      " The highest daylight temperature of the Moon is 127 C\n",
      "\n",
      " ########  Parte 2  ########\n",
      " The highest daylight temperature of the Moon is 127 Celsius\n"
     ]
    }
   ],
   "source": [
    "#Hay varias operaciones que puedes realizar en las cadenas cuando las manipulamos. En este ejercicio, usarás\n",
    "#métodos de cadena para modificar el texto con hechos sobre la Luna y luego extraerás información para crear un breve resumen.\n",
    "text = \"\"\"Interesting facts about the Moon. The Moon is Earth's only satellite. There are several interesting facts about the Moon and how it affects life here on Earth. On average, the Moon moves 4cm away from the Earth every year. This yearly drift is not significant enough to cause immediate effects on Earth. The highest daylight temperature of the Moon is 127 C. \"\"\"\n",
    "\n",
    "#Primero, divide el texto en cada oración para trabajar con su contenido:\n",
    "textSep= text.split('.')\n",
    "# Define las palabras pista: average, temperature y distance suenan bien\n",
    "PalClavs = [\"average\", \"temperature\", \"distance\"]\n",
    "\n",
    "#Cree un bucle para imprimir solo datos sobre la Luna que estén relacionados con las palabras clave definidas anteriormente:\n",
    "for oracion in textSep:\n",
    "    for PalClav in PalClavs:\n",
    "        if PalClav in oracion:\n",
    "            print(oracion)\n",
    "            break\n",
    "\n",
    "print('\\n ########  Parte 2  ########')\n",
    " #actualiza el bucle(ciclo) para cambiar C a Celsius:\n",
    "for oracion in textSep:\n",
    "    for PalClav in PalClavs :\n",
    "        if 'C' in oracion:\n",
    "            print(oracion.replace('C', 'Celsius'))\n",
    "            break"
   ]
  },
  {
   "cell_type": "code",
   "execution_count": 36,
   "metadata": {},
   "outputs": [
    {
     "name": "stdout",
     "output_type": "stream",
     "text": [
      "Datos De Gravedad Sobre La Luna\n",
      " -------------------------------------------------- \n",
      "Planeta: Tierra\n",
      "Gravedad en Luna: 1.6199999999999999 m/s2 \n",
      "\n",
      "Datos De Gravedad Sobre La Luna\n",
      " -------------------------------------------------- \n",
      "Planeta: Tierra\n",
      "Gravedad en Luna: 1.6199999999999999 m/s2 \n",
      "\n",
      "\n",
      "Datos de Gravedad sobre: Ganímedes\n",
      "----------------------------------------------\n",
      "Planeta: Marte \n",
      "Gravedad en Ganímedes: 1.4300000000000002 m/s2\n",
      "\n"
     ]
    }
   ],
   "source": [
    "#Datos con los que vas a trabajar\n",
    "nombre = 'Luna'\n",
    "gravedad  = 0.00162\n",
    "planeta= 'Tierra'\n",
    "\n",
    "# Creamos el título\n",
    "title = f'Datos de Gravedad sobre la {nombre}\\n'\n",
    "# Creamos la plantilla\n",
    "grav= gravedad * 1000\n",
    "datos = f\"\"\"{'-'*50} \n",
    "Planeta: {planeta}\n",
    "Gravedad en {nombre}: {grav} m/s2 \n",
    "\"\"\"\n",
    "# Unión de ambas cadenas\n",
    "plantilla = f\"\"\"{title.title()} {datos}\"\"\"\n",
    "print(plantilla)\n",
    " \n",
    "\n",
    "# Nuevos datos muestra\n",
    "planeta = 'Marte '\n",
    "gravedad  = 0.00143\n",
    "nombre = 'Ganímedes'\n",
    "#Comprobamos la plantilla\n",
    "print (plantilla)\n",
    "grav = gravedad * 1000\n",
    "\n",
    "plantilla2 = \"\"\"\n",
    "Datos de Gravedad sobre: {nombre}\n",
    "----------------------------------------------\n",
    "Planeta: {planeta}\n",
    "Gravedad en {nombre}: {grav} m/s2\n",
    "\"\"\"\n",
    "print(plantilla2.format(nombre=nombre, planeta=planeta, grav=grav))\n",
    "\n"
   ]
  }
 ],
 "metadata": {
  "interpreter": {
   "hash": "94f54dc03a6a8fda4aa74113359ad99dc9a92131050f7bc8da699fae20480633"
  },
  "kernelspec": {
   "display_name": "Python 3.10.2 64-bit",
   "language": "python",
   "name": "python3"
  },
  "language_info": {
   "codemirror_mode": {
    "name": "ipython",
    "version": 3
   },
   "file_extension": ".py",
   "mimetype": "text/x-python",
   "name": "python",
   "nbconvert_exporter": "python",
   "pygments_lexer": "ipython3",
   "version": "3.10.2"
  },
  "orig_nbformat": 4
 },
 "nbformat": 4,
 "nbformat_minor": 2
}
