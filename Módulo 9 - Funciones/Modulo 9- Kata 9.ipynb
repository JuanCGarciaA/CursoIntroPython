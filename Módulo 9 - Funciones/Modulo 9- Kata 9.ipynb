{
 "cells": [
  {
   "cell_type": "markdown",
   "metadata": {},
   "source": [
    "# Uso de funciones\n",
    "\n",
    "### En este ejercicio, construirás un informe de combustible que requiere información de varias ubicaciones de combustible en todo el cohete."
   ]
  },
  {
   "cell_type": "code",
   "execution_count": 18,
   "metadata": {},
   "outputs": [
    {
     "name": "stdout",
     "output_type": "stream",
     "text": [
      "Reporte de combustible:\n",
      "    Promedio: 53.333333333333336\n",
      "    Tanque 1 : 50\n",
      "    Tanque 2 : 43\n",
      "    Tanque 3 : 67\n",
      "    \n",
      "Reporte de combustible:\n",
      "    Promedio: 53.333333333333336\n",
      "    Tanque 1 : 50\n",
      "    Tanque 2 : 43\n",
      "    Tanque 3 : 67\n",
      "    \n"
     ]
    }
   ],
   "source": [
    "# Función para leer 3 tanques de combustible y muestre el promedio\n",
    "def informe(tanque1,tanque2,tanque3):\n",
    "    promTotal = (tanque1 + tanque2 + tanque3) / 3\n",
    "    return f\"\"\"Reporte de combustible:\n",
    "    Promedio: {promTotal}\n",
    "    Tanque 1 : {tanque1}\n",
    "    Tanque 2 : {tanque2}\n",
    "    Tanque 3 : {tanque3}\n",
    "    \"\"\"\n",
    "print(informe(50,43,67))\n",
    "#Mejora la legibilidad extrayendo el cálculo promedio de la función en una nueva función para que \n",
    "# el promedio se pueda hacer de forma independiente:\n",
    "# Función promedio\n",
    "def promedio(val1,val2,val3):\n",
    "    aux = (val1+val2+val3)/3\n",
    "    return aux\n",
    "# promedio(50,43,67) #Prueba de que la función promedio funciona.\n",
    "# Actualiza la función\n",
    "def informe2(tanque1,tanque2,tanque3):\n",
    "    return f\"\"\"Reporte de combustible:\n",
    "    Promedio: {promedio(tanque1,tanque2,tanque3)}\n",
    "    Tanque 1 : {tanque1}\n",
    "    Tanque 2 : {tanque2}\n",
    "    Tanque 3 : {tanque3}\n",
    "    \"\"\"\n",
    "print(informe2(50,43,67))"
   ]
  },
  {
   "cell_type": "markdown",
   "metadata": {},
   "source": [
    "# Trabajo con argumentos de palabra clave.\n",
    "### En este ejercicio, construirás un informe de cohete que requiere varias piezas de información, como el tiempo hasta el destino, el combustible a la izquierda y el nombre del destino. "
   ]
  },
  {
   "cell_type": "code",
   "execution_count": 52,
   "metadata": {},
   "outputs": [
    {
     "name": "stdout",
     "output_type": "stream",
     "text": [
      "Reporte de mision:\n",
      "    Tiempo total del viaje: 15\n",
      "    Destino : Luna\n",
      "    Combustible total : 8600 \n",
      "    \n",
      "Reporte de mision:\n",
      "    Destino : Luna\n",
      "    Tiempo total del viaje: 15\n",
      "    Combustible total : 2100 \n",
      "    \n",
      "\n",
      "Reporte de mision:\n",
      "    Destino : Luna\n",
      "    Tiempo total del viaje: 15\n",
      "    Combustible total : 2100 \n",
      "    Tanque principal con capacidad de: 600 \n",
      "    Tanque izquierdo con capacidad de: 800 \n",
      "    Tanque derecho con capacidad de: 700 \n",
      "\n"
     ]
    }
   ],
   "source": [
    "# Función con un informe preciso de la misión. Considera hora de prelanzamiento, tiempo de vuelo,\n",
    "# destino, tanque externo y tanque interno\n",
    "def reporteMision(horaPre, tiempoVuelo, destino, tanqueExt, tanqueInt):\n",
    "    return f\"\"\"Reporte de mision:\n",
    "    Tiempo total del viaje: {horaPre + tiempoVuelo}\n",
    "    Destino : {destino}\n",
    "    Combustible total : {tanqueExt + tanqueInt} \n",
    "    \"\"\"\n",
    "print(reporteMision(5, 10, \"Luna\", 600, 8000)) #Comprobar que función responde correctamente.\n",
    "\n",
    "# Escribe tu nueva función de reporte considerando que se adapte a minutos adicionales o \n",
    "#tanques adicionales de combustible.\n",
    "def reporteMision2(destino, *minutos, **tanques):\n",
    "    return f\"\"\"Reporte de mision:\n",
    "    Destino : {destino}\n",
    "    Tiempo total del viaje: {sum(minutos)}\n",
    "    Combustible total : {sum(tanques.values())} \n",
    "    \"\"\"\n",
    "print(reporteMision2(\"Luna\",5,10, principal=600, izquierdo=800, derecho = 700))\n",
    "\n",
    "# Escribe tu nueva función en la cual se lean cada uno de los valores de los tanques.\n",
    "def reporteMision3(destino, *minutos, **tanques):\n",
    "    reporte = f\"\"\"\n",
    "Reporte de mision:\n",
    "    Destino : {destino}\n",
    "    Tiempo total del viaje: {sum(minutos)}\n",
    "    Combustible total : {sum(tanques.values())} \n",
    "\"\"\"\n",
    "    for tanque, capacidad in tanques.items():\n",
    "        reporte += f\"\"\"    Tanque {tanque} con capacidad de: {capacidad} \\n\"\"\" #Se juntan las cadenas.\n",
    "    return reporte\n",
    "\n",
    "print(reporteMision3(\"Luna\",5,10, principal=600, izquierdo=800, derecho = 700))"
   ]
  }
 ],
 "metadata": {
  "interpreter": {
   "hash": "31f2aee4e71d21fbe5cf8b01ff0e069b9275f58929596ceb00d14d90e3e16cd6"
  },
  "kernelspec": {
   "display_name": "Python 3.8.9 64-bit",
   "language": "python",
   "name": "python3"
  },
  "language_info": {
   "codemirror_mode": {
    "name": "ipython",
    "version": 3
   },
   "file_extension": ".py",
   "mimetype": "text/x-python",
   "name": "python",
   "nbconvert_exporter": "python",
   "pygments_lexer": "ipython3",
   "version": "3.8.9"
  },
  "orig_nbformat": 4
 },
 "nbformat": 4,
 "nbformat_minor": 2
}
