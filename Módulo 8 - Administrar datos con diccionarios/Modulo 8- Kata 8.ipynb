{
 "cells": [
  {
   "cell_type": "markdown",
   "metadata": {},
   "source": [
    "# Creación de diccionarios"
   ]
  },
  {
   "cell_type": "code",
   "execution_count": 4,
   "metadata": {},
   "outputs": [
    {
     "name": "stdout",
     "output_type": "stream",
     "text": [
      "Mars\n",
      "2\n",
      "Mars tiene 2 lunas\n",
      "La circunferencia polar de Mars es: 6752\n"
     ]
    }
   ],
   "source": [
    "#Para este ejercicio, crearás un diccionario que almacene información sobre el planeta Marte.\n",
    "\n",
    "# Crea un diccionario llamado planet con los datos propuestos\n",
    "planet = {\n",
    "    'name': 'Mars',\n",
    "    'moons': 2\n",
    "}\n",
    "# Muestra el nombre del planeta y el número de lunas que tiene.\n",
    "print (planet['name'])\n",
    "print (planet['moons'])\n",
    "#o en forma redactada\n",
    "print (f'{planet[\"name\"]} tiene {planet[\"moons\"]} lunas')\n",
    "# Agrega la clave circunferencia con los datos proporcionados\n",
    "planet['circunferencia (km)'] = {\n",
    "    'polar': 6752,\n",
    "    'equatorial': 6792 \n",
    "}\n",
    "# Imprime el nombre del planeta con su circunferencia polar.\n",
    "print(f'La circunferencia polar de {planet[\"name\"]} es: {planet[\"circunferencia (km)\"][\"polar\"]}')\n",
    "\n"
   ]
  },
  {
   "cell_type": "markdown",
   "metadata": {},
   "source": [
    "# Programación dinámica con diccionarios"
   ]
  },
  {
   "cell_type": "code",
   "execution_count": 12,
   "metadata": {},
   "outputs": [
    {
     "name": "stdout",
     "output_type": "stream",
     "text": [
      "En el sistema hay 12 planetas con un total de 214 que nos da un promedio de 17.833333333333332 por planeta\n"
     ]
    }
   ],
   "source": [
    "#En este escenario, calcularás tanto el número total de lunas en el sistema solar como el número promedio de lunas que tiene un planeta.\n",
    "\n",
    "#Directorio dado, simulando una DB\n",
    "# Planets and moons\n",
    "planet_moons = {\n",
    "    'mercury': 0,\n",
    "    'venus': 0,\n",
    "    'earth': 1,\n",
    "    'mars': 2,\n",
    "    'jupiter': 79,\n",
    "    'saturn': 82,\n",
    "    'uranus': 27,\n",
    "    'neptune': 14,\n",
    "    'pluto': 5,\n",
    "    'haumea': 2,\n",
    "    'makemake': 1,\n",
    "    'eris': 1\n",
    "}\n",
    "#Se almacena el valor de las lunas en la variable moons\n",
    "moons = planet_moons.values()\n",
    "# Añade el código para determinar el número de lunas.\n",
    "totalMoons = 0\n",
    "for moon in moons:\n",
    "    totalMoons = totalMoons + moon\n",
    "#Almacenamos la cantidad de elementos de la lista\n",
    "tam= len(planet_moons)\n",
    "#Ya con la cantidad total de lunas se saca el promedio ya teniendo el total de elementos de la lista.\n",
    "promMoons = totalMoons / tam\n",
    "#Finalmente se imprimen los resultados\n",
    "print(f'En el sistema hay {tam} planetas con un total de {totalMoons} que nos da un promedio de {promMoons} por planeta')\n",
    "\n",
    "\n"
   ]
  }
 ],
 "metadata": {
  "interpreter": {
   "hash": "94f54dc03a6a8fda4aa74113359ad99dc9a92131050f7bc8da699fae20480633"
  },
  "kernelspec": {
   "display_name": "Python 3.10.2 64-bit",
   "language": "python",
   "name": "python3"
  },
  "language_info": {
   "codemirror_mode": {
    "name": "ipython",
    "version": 3
   },
   "file_extension": ".py",
   "mimetype": "text/x-python",
   "name": "python",
   "nbconvert_exporter": "python",
   "pygments_lexer": "ipython3",
   "version": "3.10.2"
  },
  "orig_nbformat": 4
 },
 "nbformat": 4,
 "nbformat_minor": 2
}
